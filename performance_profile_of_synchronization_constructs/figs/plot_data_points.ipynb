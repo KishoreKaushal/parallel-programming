{
 "cells": [
  {
   "cell_type": "code",
   "execution_count": 1,
   "metadata": {},
   "outputs": [],
   "source": [
    "import numpy as np\n",
    "import matplotlib.pyplot as plt\n",
    "import seaborn as sns"
   ]
  },
  {
   "cell_type": "code",
   "execution_count": 32,
   "metadata": {},
   "outputs": [],
   "source": [
    "%matplotlib inline\n",
    "plt.rcParams['figure.figsize'] = (5 , 3)\n",
    "sns.set_style('darkgrid')"
   ]
  },
  {
   "cell_type": "code",
   "execution_count": 33,
   "metadata": {},
   "outputs": [],
   "source": [
    "# plotting speedup\n",
    "thd_cnt = [2 , 4, 6 ,8]\n",
    "size_of_arr = [100000, 1000000, 10000000]\n",
    "\n",
    "mutex_speedup = np.array([ [2.503,1.000,2.217,1.820] , \n",
    "                  [1.806,2.270,2.409,2.533] , \n",
    "                  [1.766,2.210,2.113,2.193] ])\n",
    "\n",
    "busy_wait_speedup = np.array([ [2.501,2.011,1.845,0.0872] , \n",
    "                      [1.614,2.150,1.265,0.543] , \n",
    "                      [1.698,2.092,1.851,1.490] ])\n",
    "\n",
    "cv_speedup = np.array([[2.233,2.343,1.839,1.534] , \n",
    "              [1.772,1.823,1.736,1.696] , \n",
    "              [1.779,1.827,1.875,1.875] ])"
   ]
  },
  {
   "cell_type": "code",
   "execution_count": 41,
   "metadata": {},
   "outputs": [
    {
     "data": {
      "text/plain": [
       "<matplotlib.axes._subplots.AxesSubplot at 0x7f0f10a7e7f0>"
      ]
     },
     "execution_count": 41,
     "metadata": {},
     "output_type": "execute_result"
    },
    {
     "data": {
      "image/png": "[encoded data removed]",
      "text/plain": [
       "<Figure size 360x216 with 1 Axes>"
      ]
     },
     "metadata": {},
     "output_type": "display_data"
    }
   ],
   "source": [
    "# plotting for size 100000\n",
    "\n",
    "size_idx = 0\n",
    "# plt.plot( np.arange(len(mutex_speedup[size_idx , :])) , mutex_speedup[size_idx , :] , \"ro\")\n",
    "sns.barplot( np.arange(len(mutex_speedup[size_idx , :])) , mutex_speedup[size_idx , :])"
   ]
  },
  {
   "cell_type": "code",
   "execution_count": 48,
   "metadata": {},
   "outputs": [
    {
     "data": {
      "text/html": [
       "<iframe id=\"igraph\" scrolling=\"no\" style=\"border:none;\" seamless=\"seamless\" src=\"https://plot.ly/~bithack/2.embed\" height=\"525px\" width=\"100%\"></iframe>"
      ],
      "text/plain": [
       "<plotly.tools.PlotlyDisplay object>"
      ]
     },
     "execution_count": 48,
     "metadata": {},
     "output_type": "execute_result"
    }
   ],
   "source": [
    "import plotly.plotly as py\n",
    "import plotly.graph_objs as go\n",
    "\n",
    "trace1 = go.Bar(\n",
    "    x=['2', '4', '6', '8'],\n",
    "    y= [1.806,2.270,2.409,2.533],\n",
    "    name='Mutex'\n",
    ")\n",
    "trace2 = go.Bar(\n",
    "    x=['2', '4', '6', '8'],\n",
    "    y=[2.501,2.011,1.845,0.0872],\n",
    "    name='Busy Wait'\n",
    ")\n",
    "\n",
    "\n",
    "trace3 = go.Bar(\n",
    "    x=['2', '4', '6', '8'],\n",
    "    y=[2.233,2.343,1.839,1.534],\n",
    "    name='Condition Variable'\n",
    ")\n",
    "data = [trace1, trace2, trace3 ]\n",
    "layout = go.Layout(\n",
    "    barmode='group'\n",
    ")\n",
    "\n",
    "fig = go.Figure(data=data, layout=layout)\n",
    "py.iplot(fig, filename='size100000')"
   ]
  },
  {
   "cell_type": "code",
   "execution_count": 5,
   "metadata": {},
   "outputs": [
    {
     "data": {
      "text/html": [
       "<iframe id=\"igraph\" scrolling=\"no\" style=\"border:none;\" seamless=\"seamless\" src=\"https://plot.ly/~bithack/4.embed\" height=\"525px\" width=\"100%\"></iframe>"
      ],
      "text/plain": [
       "<plotly.tools.PlotlyDisplay object>"
      ]
     },
     "execution_count": 5,
     "metadata": {},
     "output_type": "execute_result"
    }
   ],
   "source": [
    "import plotly.plotly as py\n",
    "import plotly.graph_objs as go\n",
    "\n",
    "trace1 = go.Bar(\n",
    "    x=['2', '4', '6', '8'],\n",
    "    y= [1.806,2.270,2.409,2.533] , \n",
    "    name='Mutex'\n",
    ")\n",
    "trace2 = go.Bar(\n",
    "    x=['2', '4', '6', '8'],\n",
    "    y=[1.614,2.150,1.265,0.543] , \n",
    "    name='Busy Wait'\n",
    ")\n",
    "\n",
    "\n",
    "trace3 = go.Bar(\n",
    "    x=['2', '4', '6', '8'],\n",
    "    y= [1.772,1.823,1.736,1.696] , \n",
    "    name='Condition Variable'\n",
    ")\n",
    "data = [trace1, trace2, trace3 ]\n",
    "layout = go.Layout(\n",
    "    barmode='group'\n",
    ")\n",
    "\n",
    "fig = go.Figure(data=data, layout=layout)\n",
    "py.iplot(fig, filename='size1000000')"
   ]
  },
  {
   "cell_type": "code",
   "execution_count": 6,
   "metadata": {},
   "outputs": [
    {
     "data": {
      "text/html": [
       "<iframe id=\"igraph\" scrolling=\"no\" style=\"border:none;\" seamless=\"seamless\" src=\"https://plot.ly/~bithack/6.embed\" height=\"525px\" width=\"100%\"></iframe>"
      ],
      "text/plain": [
       "<plotly.tools.PlotlyDisplay object>"
      ]
     },
     "execution_count": 6,
     "metadata": {},
     "output_type": "execute_result"
    }
   ],
   "source": [
    "import plotly.plotly as py\n",
    "import plotly.graph_objs as go\n",
    "\n",
    "trace1 = go.Bar(\n",
    "    x=['2', '4', '6', '8'],\n",
    "    y= [1.766,2.210,2.113,2.193], \n",
    "    name='Mutex'\n",
    ")\n",
    "trace2 = go.Bar(\n",
    "    x=['2', '4', '6', '8'],\n",
    "    y=[1.698,2.092,1.851,1.490], \n",
    "    name='Busy Wait'\n",
    ")\n",
    "\n",
    "\n",
    "trace3 = go.Bar(\n",
    "    x=['2', '4', '6', '8'],\n",
    "    y=[1.779,1.827,1.875,1.875],\n",
    "    name='Condition Variable'\n",
    ")\n",
    "data = [trace1, trace2, trace3 ]\n",
    "layout = go.Layout(\n",
    "    barmode='group'\n",
    ")\n",
    "\n",
    "fig = go.Figure(data=data, layout=layout)\n",
    "py.iplot(fig, filename='size10000000')"
   ]
  },
  {
   "cell_type": "code",
   "execution_count": null,
   "metadata": {},
   "outputs": [],
   "source": []
  }
 ],
 "metadata": {
  "kernelspec": {
   "display_name": "Python 3",
   "language": "python",
   "name": "python3"
  },
  "language_info": {
   "codemirror_mode": {
    "name": "ipython",
    "version": 3
   },
   "file_extension": ".py",
   "mimetype": "text/x-python",
   "name": "python",
   "nbconvert_exporter": "python",
   "pygments_lexer": "ipython3",
   "version": "3.6.5"
  }
 },
 "nbformat": 4,
 "nbformat_minor": 2
}
